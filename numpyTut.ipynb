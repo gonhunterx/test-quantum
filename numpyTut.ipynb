{
 "cells": [
  {
   "cell_type": "code",
   "execution_count": 9,
   "id": "a9d3ec7f-dcbf-41b9-ae7e-2fbacfede213",
   "metadata": {},
   "outputs": [],
   "source": [
    "import numpy as np \n",
    "import sys "
   ]
  },
  {
   "cell_type": "code",
   "execution_count": 18,
   "id": "bfb34d93-cf3a-40b4-a661-e562a0794f98",
   "metadata": {},
   "outputs": [
    {
     "data": {
      "text/plain": [
       "array([1, 2, 3], dtype=int16)"
      ]
     },
     "execution_count": 18,
     "metadata": {},
     "output_type": "execute_result"
    }
   ],
   "source": [
    "a = np.array([1, 2, 3], dtype='int16')\n",
    "a"
   ]
  },
  {
   "cell_type": "code",
   "execution_count": 11,
   "id": "f7dfdebd-1962-4301-9deb-9642110bba83",
   "metadata": {},
   "outputs": [
    {
     "data": {
      "text/plain": [
       "array([[ 9.  ,  9.2 ,  9.6 ,  9.1 ],\n",
       "       [10.42, 10.66, 10.67, 10.71],\n",
       "       [11.5 , 11.62, 11.66, 11.72]])"
      ]
     },
     "execution_count": 11,
     "metadata": {},
     "output_type": "execute_result"
    }
   ],
   "source": [
    "b = np.array([[9.0, 9.2, 9.6, 9.1], [10.42, 10.66, 10.67, 10.71], [11.5, 11.62, 11.66, 11.72]])\n",
    "b"
   ]
  },
  {
   "cell_type": "code",
   "execution_count": 12,
   "id": "c916460f-23d9-4a1b-a967-d6b791d4f59d",
   "metadata": {},
   "outputs": [
    {
     "data": {
      "text/plain": [
       "(3, 4)"
      ]
     },
     "execution_count": 12,
     "metadata": {},
     "output_type": "execute_result"
    }
   ],
   "source": [
    "b.shape"
   ]
  },
  {
   "cell_type": "code",
   "execution_count": 20,
   "id": "3991acfd-1715-4615-bf93-6f318000c308",
   "metadata": {},
   "outputs": [
    {
     "data": {
      "text/plain": [
       "dtype('float64')"
      ]
     },
     "execution_count": 20,
     "metadata": {},
     "output_type": "execute_result"
    }
   ],
   "source": [
    "b.dtype"
   ]
  },
  {
   "cell_type": "code",
   "execution_count": 21,
   "id": "6a933881-bd40-4c44-bd01-44d2cf98a97d",
   "metadata": {},
   "outputs": [
    {
     "data": {
      "text/plain": [
       "dtype('int16')"
      ]
     },
     "execution_count": 21,
     "metadata": {},
     "output_type": "execute_result"
    }
   ],
   "source": [
    "a.dtype"
   ]
  },
  {
   "cell_type": "code",
   "execution_count": 25,
   "id": "a48a93f4-2b1a-45ff-a77b-3ca3f7d8382b",
   "metadata": {},
   "outputs": [
    {
     "data": {
      "text/plain": [
       "6"
      ]
     },
     "execution_count": 25,
     "metadata": {},
     "output_type": "execute_result"
    }
   ],
   "source": [
    "# show how many bytes\n",
    "a.nbytes"
   ]
  },
  {
   "cell_type": "code",
   "execution_count": 24,
   "id": "ea785160-240e-4093-9f79-0a3f6973d768",
   "metadata": {},
   "outputs": [
    {
     "data": {
      "text/plain": [
       "96"
      ]
     },
     "execution_count": 24,
     "metadata": {},
     "output_type": "execute_result"
    }
   ],
   "source": [
    "b.nbytes"
   ]
  },
  {
   "cell_type": "code",
   "execution_count": 27,
   "id": "597c3782-cf37-49f1-bad8-fd40e5e5e775",
   "metadata": {},
   "outputs": [
    {
     "name": "stdout",
     "output_type": "stream",
     "text": [
      "[[ 1  2  3  4  5  6  7]\n",
      " [ 8  9 10 11 12 13 14]]\n"
     ]
    }
   ],
   "source": [
    "arr1 = np.array([[1,2,3,4,5,6,7],[8,9,10,11,12,13,14]])\n",
    "print(arr1)"
   ]
  },
  {
   "cell_type": "code",
   "execution_count": 29,
   "id": "8cafafa9-e45e-48c5-8ccb-13dc583859df",
   "metadata": {},
   "outputs": [
    {
     "data": {
      "text/plain": [
       "13"
      ]
     },
     "execution_count": 29,
     "metadata": {},
     "output_type": "execute_result"
    }
   ],
   "source": [
    "# get specific element [r, c] row, column\n",
    "arr1[1, 5]"
   ]
  },
  {
   "cell_type": "code",
   "execution_count": 30,
   "id": "696e1924-8921-4d62-9eb7-78de873da0b6",
   "metadata": {},
   "outputs": [
    {
     "data": {
      "text/plain": [
       "array([1, 2, 3, 4, 5, 6, 7])"
      ]
     },
     "execution_count": 30,
     "metadata": {},
     "output_type": "execute_result"
    }
   ],
   "source": [
    "# get a specific row \n",
    "arr1[0, :]"
   ]
  },
  {
   "cell_type": "code",
   "execution_count": 31,
   "id": "baee944a-f41f-407b-b2d3-e3f2c07f459b",
   "metadata": {},
   "outputs": [
    {
     "data": {
      "text/plain": [
       "array([ 3, 10])"
      ]
     },
     "execution_count": 31,
     "metadata": {},
     "output_type": "execute_result"
    }
   ],
   "source": [
    "# get a specific column\n",
    "arr1[:, 2]"
   ]
  },
  {
   "cell_type": "code",
   "execution_count": 33,
   "id": "9762d946-fdbc-41be-9f02-3a900c010886",
   "metadata": {},
   "outputs": [
    {
     "data": {
      "text/plain": [
       "array([2, 4, 6])"
      ]
     },
     "execution_count": 33,
     "metadata": {},
     "output_type": "execute_result"
    }
   ],
   "source": [
    "# getting more fancy [startindex:endindex:stepsize]\n",
    "arr1[0, 1:6:2]"
   ]
  },
  {
   "cell_type": "code",
   "execution_count": 34,
   "id": "ebb2a425-e6ee-4a1e-b7bc-9cb5209575c2",
   "metadata": {},
   "outputs": [
    {
     "name": "stdout",
     "output_type": "stream",
     "text": [
      "[[ 1  2  3  4  5  6  7]\n",
      " [ 8  9 10 11 12 20 14]]\n"
     ]
    }
   ],
   "source": [
    "# change 13 \n",
    "arr1[1, 5] = 20\n",
    "print(arr1)"
   ]
  },
  {
   "cell_type": "code",
   "execution_count": 35,
   "id": "2abf6c9e-4753-4eb6-9fab-865b43a29a0a",
   "metadata": {},
   "outputs": [
    {
     "name": "stdout",
     "output_type": "stream",
     "text": [
      "[[ 1  2  5  4  5  6  7]\n",
      " [ 8  9  5 11 12 20 14]]\n"
     ]
    }
   ],
   "source": [
    "# change a range of columns \n",
    "arr1[:, 2] = 5\n",
    "print(arr1)"
   ]
  },
  {
   "cell_type": "code",
   "execution_count": 36,
   "id": "4d438ace-936f-4cb5-997e-4885ac801e70",
   "metadata": {},
   "outputs": [
    {
     "name": "stdout",
     "output_type": "stream",
     "text": [
      "[[[1 2]\n",
      "  [3 4]]\n",
      "\n",
      " [[5 6]\n",
      "  [7 8]]]\n"
     ]
    }
   ],
   "source": [
    "b2 = np.array([[[1,2],[3,4]],[[5,6],[7,8]]])\n",
    "print(b2)"
   ]
  },
  {
   "cell_type": "code",
   "execution_count": 37,
   "id": "988c4900-3442-446a-9325-daf6803a35bb",
   "metadata": {},
   "outputs": [
    {
     "data": {
      "text/plain": [
       "4"
      ]
     },
     "execution_count": 37,
     "metadata": {},
     "output_type": "execute_result"
    }
   ],
   "source": [
    "# get specific element (work outside in)\n",
    "# if I wanted the 4 the farthest outside would be the first set \n",
    "b2[0, 1, 1]\n",
    "# so first set, then '1' for second row and then '1' for the second item in the row "
   ]
  },
  {
   "cell_type": "code",
   "execution_count": 39,
   "id": "9b37ab25-b28b-4b45-99a6-acae58f3fbef",
   "metadata": {},
   "outputs": [
    {
     "data": {
      "text/plain": [
       "array([[[1, 2],\n",
       "        [9, 9]],\n",
       "\n",
       "       [[5, 6],\n",
       "        [8, 8]]])"
      ]
     },
     "execution_count": 39,
     "metadata": {},
     "output_type": "execute_result"
    }
   ],
   "source": [
    "# replace create a subsequence that is the same dimension \n",
    "b2[:, 1, :] = [[9,9],[8,8]]\n",
    "b2"
   ]
  },
  {
   "cell_type": "markdown",
   "id": "b8942d60-2746-4fc8-97bb-fc23f7f138dd",
   "metadata": {},
   "source": [
    "# __Initializing Different Types of Arrays__"
   ]
  },
  {
   "cell_type": "code",
   "execution_count": 47,
   "id": "cab66f1f-6b17-439a-ada6-5bde1d3b2d41",
   "metadata": {
    "scrolled": true
   },
   "outputs": [
    {
     "name": "stdout",
     "output_type": "stream",
     "text": [
      "[[[[0. 0.]\n",
      "   [0. 0.]\n",
      "   [0. 0.]]\n",
      "\n",
      "  [[0. 0.]\n",
      "   [0. 0.]\n",
      "   [0. 0.]]\n",
      "\n",
      "  [[0. 0.]\n",
      "   [0. 0.]\n",
      "   [0. 0.]]]\n",
      "\n",
      "\n",
      " [[[0. 0.]\n",
      "   [0. 0.]\n",
      "   [0. 0.]]\n",
      "\n",
      "  [[0. 0.]\n",
      "   [0. 0.]\n",
      "   [0. 0.]]\n",
      "\n",
      "  [[0. 0.]\n",
      "   [0. 0.]\n",
      "   [0. 0.]]]]\n"
     ]
    }
   ],
   "source": [
    "# All 0s matrix\n",
    "all_zero = np.zeros((2, 3, 3, 2))\n",
    "                    \n",
    "print(all_zero)"
   ]
  },
  {
   "cell_type": "code",
   "execution_count": 49,
   "id": "dfa8be66-af84-4c21-ab39-1f70e309d676",
   "metadata": {},
   "outputs": [
    {
     "data": {
      "text/plain": [
       "array([[[1, 1],\n",
       "        [1, 1]],\n",
       "\n",
       "       [[1, 1],\n",
       "        [1, 1]],\n",
       "\n",
       "       [[1, 1],\n",
       "        [1, 1]],\n",
       "\n",
       "       [[1, 1],\n",
       "        [1, 1]]])"
      ]
     },
     "execution_count": 49,
     "metadata": {},
     "output_type": "execute_result"
    }
   ],
   "source": [
    "# all ones matrix \n",
    "np.ones((4, 2, 2), dtype='int32')"
   ]
  },
  {
   "cell_type": "code",
   "execution_count": 50,
   "id": "3f56ae0d-7bd6-4348-b368-32848249f454",
   "metadata": {},
   "outputs": [
    {
     "data": {
      "text/plain": [
       "array([[99, 99],\n",
       "       [99, 99]])"
      ]
     },
     "execution_count": 50,
     "metadata": {},
     "output_type": "execute_result"
    }
   ],
   "source": [
    "# Any other number\n",
    "np.full((2, 2), 99)"
   ]
  },
  {
   "cell_type": "code",
   "execution_count": 52,
   "id": "ff48acb9-ff8e-4be4-a2e1-38314ce92a41",
   "metadata": {},
   "outputs": [
    {
     "data": {
      "text/plain": [
       "array([[4., 4., 4., 4.],\n",
       "       [4., 4., 4., 4.],\n",
       "       [4., 4., 4., 4.]])"
      ]
     },
     "execution_count": 52,
     "metadata": {},
     "output_type": "execute_result"
    }
   ],
   "source": [
    "# Any other number (full_like)\n",
    "np.full_like(b, 4)"
   ]
  },
  {
   "cell_type": "code",
   "execution_count": 54,
   "id": "5ff9f95a-358d-4b0f-b798-87b046e123bd",
   "metadata": {},
   "outputs": [
    {
     "data": {
      "text/plain": [
       "array([[[0.99866172, 0.44554916, 0.15906768],\n",
       "        [0.03524586, 0.32028474, 0.2638439 ]],\n",
       "\n",
       "       [[0.1440551 , 0.41515526, 0.84344863],\n",
       "        [0.19535181, 0.14711971, 0.4222459 ]],\n",
       "\n",
       "       [[0.24616471, 0.91406516, 0.83814941],\n",
       "        [0.97560821, 0.79667061, 0.78091878]],\n",
       "\n",
       "       [[0.41349289, 0.22459618, 0.20146193],\n",
       "        [0.27467273, 0.45960327, 0.43441621]]])"
      ]
     },
     "execution_count": 54,
     "metadata": {},
     "output_type": "execute_result"
    }
   ],
   "source": [
    "# Random decimal numbers \n",
    "np.random.rand(4, 2, 3)"
   ]
  },
  {
   "cell_type": "code",
   "execution_count": 55,
   "id": "c47655af-990e-4d00-b6f4-baa0e8296f90",
   "metadata": {},
   "outputs": [
    {
     "data": {
      "text/plain": [
       "array([[0.62196749, 0.8162294 , 0.65110121, 0.80911028],\n",
       "       [0.29397827, 0.84853713, 0.6108374 , 0.12637277],\n",
       "       [0.69081076, 0.16233308, 0.49756627, 0.26917794]])"
      ]
     },
     "execution_count": 55,
     "metadata": {},
     "output_type": "execute_result"
    }
   ],
   "source": [
    "np.random.random_sample(b.shape)"
   ]
  },
  {
   "cell_type": "code",
   "execution_count": 60,
   "id": "540548e8-c339-4432-a3a7-141bef92e957",
   "metadata": {},
   "outputs": [
    {
     "data": {
      "text/plain": [
       "array([[5, 5, 4],\n",
       "       [6, 4, 6],\n",
       "       [6, 5, 6]])"
      ]
     },
     "execution_count": 60,
     "metadata": {},
     "output_type": "execute_result"
    }
   ],
   "source": [
    "# Random Integer values \n",
    "np.random.randint(4, 7, size=(3, 3))"
   ]
  },
  {
   "cell_type": "code",
   "execution_count": 62,
   "id": "92c0d0d6-0b19-4ba8-9c85-a59e798dc91d",
   "metadata": {},
   "outputs": [
    {
     "data": {
      "text/plain": [
       "array([[1., 0., 0., 0., 0.],\n",
       "       [0., 1., 0., 0., 0.],\n",
       "       [0., 0., 1., 0., 0.],\n",
       "       [0., 0., 0., 1., 0.],\n",
       "       [0., 0., 0., 0., 1.]])"
      ]
     },
     "execution_count": 62,
     "metadata": {},
     "output_type": "execute_result"
    }
   ],
   "source": [
    "# The identity matrix \n",
    "np.identity(5)"
   ]
  },
  {
   "cell_type": "code",
   "execution_count": 66,
   "id": "27e58b4e-1c90-4a9c-b4ce-cc443160e8eb",
   "metadata": {},
   "outputs": [
    {
     "data": {
      "text/plain": [
       "array([[1, 2, 3],\n",
       "       [1, 2, 3],\n",
       "       [1, 2, 3]])"
      ]
     },
     "execution_count": 66,
     "metadata": {},
     "output_type": "execute_result"
    }
   ],
   "source": [
    "arr = np.array([[1,2,3]])\n",
    "# by adding the axis on the 0th axis (y) turning it into rows of 3 if not specified or set to 1 it will be horizontal \n",
    "r1 = np.repeat(arr, 3, axis=0)\n",
    "r1"
   ]
  },
  {
   "cell_type": "markdown",
   "id": "ccdb648f-2e75-4fdc-9d30-e4c573ff8b42",
   "metadata": {},
   "source": [
    "# Initlize array for video tutorial \n"
   ]
  },
  {
   "cell_type": "code",
   "execution_count": 67,
   "id": "87a2917a-6d5d-42cd-a937-d60ce9fc5bad",
   "metadata": {},
   "outputs": [
    {
     "data": {
      "text/plain": [
       "array([[1., 1., 1., 1., 1.],\n",
       "       [1., 1., 1., 1., 1.],\n",
       "       [1., 1., 1., 1., 1.],\n",
       "       [1., 1., 1., 1., 1.],\n",
       "       [1., 1., 1., 1., 1.]])"
      ]
     },
     "execution_count": 67,
     "metadata": {},
     "output_type": "execute_result"
    }
   ],
   "source": [
    "base = np.ones((5, 5))\n",
    "base"
   ]
  },
  {
   "cell_type": "code",
   "execution_count": 72,
   "id": "95f5b9f3-1f01-42f1-b990-995ded91d37c",
   "metadata": {},
   "outputs": [
    {
     "data": {
      "text/plain": [
       "array([[1., 1., 1., 1., 1.],\n",
       "       [1., 0., 0., 0., 1.],\n",
       "       [1., 0., 9., 0., 1.],\n",
       "       [1., 0., 0., 0., 1.],\n",
       "       [1., 1., 1., 1., 1.]])"
      ]
     },
     "execution_count": 72,
     "metadata": {},
     "output_type": "execute_result"
    }
   ],
   "source": [
    "# row[start:end:step]\n",
    "base[1, 1:3] = 0\n",
    "base[2, 1:4] = 0\n",
    "base[3, 1:4] = 0\n",
    "base[2, 2] = 9\n",
    "base"
   ]
  },
  {
   "cell_type": "markdown",
   "id": "2627bd5c-9f5a-4867-b67f-165e45d5ec66",
   "metadata": {},
   "source": [
    "## Better way to do it"
   ]
  },
  {
   "cell_type": "code",
   "execution_count": 79,
   "id": "76c8b7f5-cde0-40e6-a744-d43bda9e3dee",
   "metadata": {},
   "outputs": [
    {
     "name": "stdout",
     "output_type": "stream",
     "text": [
      "[[1. 1. 1. 1. 1.]\n",
      " [1. 1. 1. 1. 1.]\n",
      " [1. 1. 1. 1. 1.]\n",
      " [1. 1. 1. 1. 1.]\n",
      " [1. 1. 1. 1. 1.]]\n",
      "[[0. 0. 0.]\n",
      " [0. 9. 0.]\n",
      " [0. 0. 0.]]\n"
     ]
    }
   ],
   "source": [
    "base1 = np.ones((5,5))\n",
    "print(base1)\n",
    "z = np.zeros((3,3))\n",
    "z[1, 1] = 9\n",
    "print(z)\n",
    "\n",
    "base1[1:4, 1:4] = z\n"
   ]
  },
  {
   "cell_type": "code",
   "execution_count": 80,
   "id": "b609be14-6c6c-44bd-a0aa-cc110510887a",
   "metadata": {},
   "outputs": [
    {
     "data": {
      "text/plain": [
       "array([[1., 1., 1., 1., 1.],\n",
       "       [1., 0., 0., 0., 1.],\n",
       "       [1., 0., 9., 0., 1.],\n",
       "       [1., 0., 0., 0., 1.],\n",
       "       [1., 1., 1., 1., 1.]])"
      ]
     },
     "execution_count": 80,
     "metadata": {},
     "output_type": "execute_result"
    }
   ],
   "source": [
    "base1"
   ]
  },
  {
   "cell_type": "markdown",
   "id": "6c13e437-4d30-4815-889b-f14ca8f9fdd6",
   "metadata": {},
   "source": [
    "### Be careful when copying arrays!"
   ]
  },
  {
   "cell_type": "code",
   "execution_count": 84,
   "id": "53dd269f-7327-448f-9621-41c87e290d99",
   "metadata": {},
   "outputs": [
    {
     "data": {
      "text/plain": [
       "array([1, 2, 3])"
      ]
     },
     "execution_count": 84,
     "metadata": {},
     "output_type": "execute_result"
    }
   ],
   "source": [
    "a3 = np.array([1,2,3])\n",
    "a3"
   ]
  },
  {
   "cell_type": "code",
   "execution_count": 91,
   "id": "bd373dfb-9e6e-427d-9421-9598d3c57844",
   "metadata": {},
   "outputs": [
    {
     "data": {
      "text/plain": [
       "array([1, 2, 3])"
      ]
     },
     "execution_count": 91,
     "metadata": {},
     "output_type": "execute_result"
    }
   ],
   "source": [
    "# here we set b3 = to the exact same space a3 takes up so they are point to the same area in memory \n",
    "b3 = a3\n",
    "b3"
   ]
  },
  {
   "cell_type": "code",
   "execution_count": 92,
   "id": "a1816afc-0722-4b7c-a0db-d889e7dc62d4",
   "metadata": {},
   "outputs": [],
   "source": [
    "b3[0] = 100"
   ]
  },
  {
   "cell_type": "code",
   "execution_count": 93,
   "id": "80b63e29-4f80-459a-8c50-c4456988913d",
   "metadata": {},
   "outputs": [
    {
     "data": {
      "text/plain": [
       "array([100,   2,   3])"
      ]
     },
     "execution_count": 93,
     "metadata": {},
     "output_type": "execute_result"
    }
   ],
   "source": [
    "b3"
   ]
  },
  {
   "cell_type": "code",
   "execution_count": 94,
   "id": "52c6b111-27a4-49b5-8b51-37b680d71283",
   "metadata": {},
   "outputs": [
    {
     "data": {
      "text/plain": [
       "array([100,   2,   3])"
      ]
     },
     "execution_count": 94,
     "metadata": {},
     "output_type": "execute_result"
    }
   ],
   "source": [
    "a3"
   ]
  },
  {
   "cell_type": "code",
   "execution_count": 95,
   "id": "a139e522-16d0-4535-ab27-f146dbbee58f",
   "metadata": {},
   "outputs": [],
   "source": [
    "b3 = a3.copy"
   ]
  },
  {
   "cell_type": "markdown",
   "id": "d1b747d9-ea6e-40bc-b4c2-a7b8f0f334b3",
   "metadata": {},
   "source": [
    "# Mathematics"
   ]
  },
  {
   "cell_type": "code",
   "execution_count": 96,
   "id": "df2d7d5d-6a2d-4daa-a6e7-eead624089ab",
   "metadata": {},
   "outputs": [
    {
     "name": "stdout",
     "output_type": "stream",
     "text": [
      "[1 2 3 4]\n"
     ]
    }
   ],
   "source": [
    "mthvar1 = np.array([1,2,3,4])\n",
    "print(mthvar1)"
   ]
  },
  {
   "cell_type": "code",
   "execution_count": 98,
   "id": "4a3d381f-4dfd-4b40-a5df-9d4e13ca066f",
   "metadata": {},
   "outputs": [
    {
     "data": {
      "text/plain": [
       "array([3, 4, 5, 6])"
      ]
     },
     "execution_count": 98,
     "metadata": {},
     "output_type": "execute_result"
    }
   ],
   "source": [
    "mthvar1 + 2"
   ]
  },
  {
   "cell_type": "code",
   "execution_count": 99,
   "id": "70a694dd-45f4-42b8-b76e-e9d1fac56242",
   "metadata": {},
   "outputs": [
    {
     "data": {
      "text/plain": [
       "array([-1,  0,  1,  2])"
      ]
     },
     "execution_count": 99,
     "metadata": {},
     "output_type": "execute_result"
    }
   ],
   "source": [
    "mthvar1 - 2"
   ]
  },
  {
   "cell_type": "code",
   "execution_count": 100,
   "id": "7774e1b6-d746-4e17-8b0d-d14d06965e3a",
   "metadata": {},
   "outputs": [
    {
     "data": {
      "text/plain": [
       "array([2, 4, 6, 8])"
      ]
     },
     "execution_count": 100,
     "metadata": {},
     "output_type": "execute_result"
    }
   ],
   "source": [
    "mthvar1 * 2"
   ]
  },
  {
   "cell_type": "code",
   "execution_count": 101,
   "id": "17ba5d72-df18-4455-b593-521a5287fa8e",
   "metadata": {},
   "outputs": [
    {
     "data": {
      "text/plain": [
       "array([0.5, 1. , 1.5, 2. ])"
      ]
     },
     "execution_count": 101,
     "metadata": {},
     "output_type": "execute_result"
    }
   ],
   "source": [
    "mthvar1 / 2"
   ]
  },
  {
   "cell_type": "code",
   "execution_count": 102,
   "id": "09fe0a1b-413d-47a7-974d-4e8f832d6044",
   "metadata": {},
   "outputs": [
    {
     "data": {
      "text/plain": [
       "array([2, 2, 4, 4])"
      ]
     },
     "execution_count": 102,
     "metadata": {},
     "output_type": "execute_result"
    }
   ],
   "source": [
    "mthvar2 = np.array([1, 0, 1, 0])\n",
    "mthvar1 + mthvar2"
   ]
  },
  {
   "cell_type": "code",
   "execution_count": 103,
   "id": "9ec43ad9-c163-4849-a810-33a9f5a3f142",
   "metadata": {},
   "outputs": [
    {
     "data": {
      "text/plain": [
       "array([ 1,  4,  9, 16])"
      ]
     },
     "execution_count": 103,
     "metadata": {},
     "output_type": "execute_result"
    }
   ],
   "source": [
    "mthvar1 ** 2"
   ]
  },
  {
   "cell_type": "code",
   "execution_count": 104,
   "id": "36ab52d1-2424-46c0-9931-c6ab1ad2478d",
   "metadata": {},
   "outputs": [
    {
     "data": {
      "text/plain": [
       "array([ 0.84147098,  0.90929743,  0.14112001, -0.7568025 ])"
      ]
     },
     "execution_count": 104,
     "metadata": {},
     "output_type": "execute_result"
    }
   ],
   "source": [
    "np.sin(mthvar1)"
   ]
  },
  {
   "cell_type": "code",
   "execution_count": 105,
   "id": "6d27c69c-f3e2-43d7-ac65-fa6362b6f35b",
   "metadata": {},
   "outputs": [
    {
     "data": {
      "text/plain": [
       "array([ 0.54030231, -0.41614684, -0.9899925 , -0.65364362])"
      ]
     },
     "execution_count": 105,
     "metadata": {},
     "output_type": "execute_result"
    }
   ],
   "source": [
    "np.cos(mthvar1)"
   ]
  },
  {
   "cell_type": "code",
   "execution_count": 106,
   "id": "dfe9846e-3c78-4a3e-91a1-9b0a67f1e742",
   "metadata": {},
   "outputs": [
    {
     "data": {
      "text/plain": [
       "array([ 1.55740772, -2.18503986, -0.14254654,  1.15782128])"
      ]
     },
     "execution_count": 106,
     "metadata": {},
     "output_type": "execute_result"
    }
   ],
   "source": [
    "np.tan(mthvar1)"
   ]
  },
  {
   "cell_type": "markdown",
   "id": "9dd46a84-19ab-4a99-a9f6-7a12ed7a5095",
   "metadata": {},
   "source": [
    "# Linear Algebra"
   ]
  },
  {
   "cell_type": "code",
   "execution_count": 120,
   "id": "226d0a07-99ed-4024-ae2e-0f2ac915b4cb",
   "metadata": {},
   "outputs": [
    {
     "name": "stdout",
     "output_type": "stream",
     "text": [
      "[[1. 1. 1.]\n",
      " [1. 1. 1.]]\n"
     ]
    }
   ],
   "source": [
    "mthvar3 = np.ones((2, 3))\n",
    "print(mthvar3)"
   ]
  },
  {
   "cell_type": "code",
   "execution_count": 121,
   "id": "43974f11-4eeb-4712-9bd4-501ce357d3e5",
   "metadata": {},
   "outputs": [
    {
     "name": "stdout",
     "output_type": "stream",
     "text": [
      "[[1. 1. 1.]\n",
      " [1. 1. 1.]]\n"
     ]
    }
   ],
   "source": [
    "mthvar4 = np.full((3,2), 2)\n",
    "print(mthvar3)"
   ]
  },
  {
   "cell_type": "code",
   "execution_count": 122,
   "id": "587568ac-e65b-413e-b5d7-c9ebdfdd89ec",
   "metadata": {},
   "outputs": [],
   "source": [
    "# matrix multiplication // Matricies must have the same dimensions if transposed "
   ]
  },
  {
   "cell_type": "code",
   "execution_count": 123,
   "id": "0e58323c-b969-47d2-9244-2a400778dcde",
   "metadata": {},
   "outputs": [
    {
     "data": {
      "text/plain": [
       "array([[6., 6.],\n",
       "       [6., 6.]])"
      ]
     },
     "execution_count": 123,
     "metadata": {},
     "output_type": "execute_result"
    }
   ],
   "source": [
    "# example you can use the above matrices for multiplication because they have opposite dimensions \n",
    "np.matmul(mthvar3, mthvar4) # matrix multiply method from numpy "
   ]
  },
  {
   "cell_type": "code",
   "execution_count": 125,
   "id": "cba30936-606f-4a70-b654-3cd7e6a3fe3a",
   "metadata": {},
   "outputs": [
    {
     "data": {
      "text/plain": [
       "1.0"
      ]
     },
     "execution_count": 125,
     "metadata": {},
     "output_type": "execute_result"
    }
   ],
   "source": [
    "# find the determinate of the matrix \n",
    "\n",
    "c = np.identity(3)\n",
    "np.linalg.det(c)"
   ]
  },
  {
   "cell_type": "code",
   "execution_count": null,
   "id": "e4fe6e4e-e2b8-481f-9ba3-1edee57bfdc7",
   "metadata": {},
   "outputs": [],
   "source": []
  }
 ],
 "metadata": {
  "kernelspec": {
   "display_name": "Python 3 (ipykernel)",
   "language": "python",
   "name": "python3"
  },
  "language_info": {
   "codemirror_mode": {
    "name": "ipython",
    "version": 3
   },
   "file_extension": ".py",
   "mimetype": "text/x-python",
   "name": "python",
   "nbconvert_exporter": "python",
   "pygments_lexer": "ipython3",
   "version": "3.9.18"
  }
 },
 "nbformat": 4,
 "nbformat_minor": 5
}
